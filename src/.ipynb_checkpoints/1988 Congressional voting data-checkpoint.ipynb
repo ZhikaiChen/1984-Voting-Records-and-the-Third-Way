{
 "cells": [
  {
   "cell_type": "code",
   "execution_count": 2,
   "metadata": {
    "collapsed": false
   },
   "outputs": [],
   "source": [
    "from pyecharts import Scatter3D\n",
    "import pandas as pd\n",
    "import random\n",
    "import os\n",
    "import numpy as np\n",
    "from sklearn.cluster import KMeans\n",
    "import sklearn.decomposition as skl\n",
    "import matplotlib.pyplot as plt\n",
    "from mpl_toolkits.mplot3d import Axes3D\n",
    "from matplotlib.widgets import CheckButtons\n",
    "import pyecharts as pch"
   ]
  },
  {
   "cell_type": "code",
   "execution_count": 3,
   "metadata": {
    "collapsed": false
   },
   "outputs": [],
   "source": [
    "os.chdir('/Users/chenzhikai/AnacondaProjects/1984 Voting Records and the Third Way/data/')"
   ]
  },
  {
   "cell_type": "code",
   "execution_count": 4,
   "metadata": {
    "collapsed": false
   },
   "outputs": [],
   "source": [
    "def normalize(arr):\n",
    "    return [n/float(arr.sum()) for n in arr]"
   ]
  },
  {
   "cell_type": "code",
   "execution_count": 5,
   "metadata": {
    "collapsed": false
   },
   "outputs": [],
   "source": [
    "\n",
    "def preprocess():\n",
    "    df=pd.read_csv('Records.txt',header=None)\n",
    "    df.columns=['label','handicapped-infants','water-project-cost-sharing',\n",
    "           'adoption-of-the-budget-resolution','physician-fee-freeze',\n",
    "            'el-salvador-aid','religious-groups-in-schools',\n",
    "            'anti-satellite-test-ban','aid-to-nicaraguan-contras',\n",
    "            'mx-missile','immigration','synfuels-corporation-cutback',\n",
    "            'education-spending','superfund-right-to-sue','crime',\n",
    "            'duty-free-exports','export-administration-act-south-africa'            \n",
    "           ]\n",
    "    df.reset_index(inplace=True)\n",
    "    df.rename(columns={'index':'Sample'},inplace=True)\n",
    "    df.replace('y',1,inplace=True)\n",
    "    df.replace('n',0,inplace=True)\n",
    "    df.replace('?',0,inplace=True)\n",
    "    label=df.label\n",
    "    df.drop(df.columns[1],axis=1,inplace=True)\n",
    "    \n",
    "    SampFeat=pd.melt(df,\n",
    "            id_vars='Sample',var_name='Feature').sort_values(\n",
    "            'Sample').reset_index().drop('index',axis=1)\n",
    "    SampFeat=SampFeat[SampFeat['value']==1]\n",
    "    #mask=SampFeat.Sample.value_counts()>=5\n",
    "    #freqSamp=SampFeat.Sample.value_counts()[mask].index\n",
    "    #SampFeat=SampFeat.set_index('Sample').loc[freqSamp,:].reset_index()\n",
    "    pivot=df.set_index('Sample')\n",
    "    pivot=pivot.replace('',0).apply(normalize,axis=1)\n",
    "    return pivot,SampFeat,label"
   ]
  },
  {
   "cell_type": "code",
   "execution_count": 6,
   "metadata": {
    "collapsed": false
   },
   "outputs": [
    {
     "name": "stderr",
     "output_type": "stream",
     "text": [
      "/Users/chenzhikai/anaconda/lib/python2.7/site-packages/ipykernel/__main__.py:2: RuntimeWarning: invalid value encountered in divide\n",
      "  from ipykernel import kernelapp as app\n"
     ]
    }
   ],
   "source": [
    "pivot,SampFeat,label=preprocess()"
   ]
  },
  {
   "cell_type": "code",
   "execution_count": 7,
   "metadata": {
    "collapsed": false
   },
   "outputs": [],
   "source": [
    "\n",
    "class Cluster(object):\n",
    "    def __init__(self,SampFeat,pivot):\n",
    "        self.SampFeat=SampFeat\n",
    "        self.pivot=pivot\n",
    "    def draw(self):\n",
    "        mat=self.pivot.replace(np.nan,0).as_matrix()\n",
    "        kmeans=KMeans(n_clusters=2).fit(mat)\n",
    "        self.clusters=pd.DataFrame({'Sample':pivot.index,'cluster':kmeans.labels_})\n",
    "        \n",
    "        #Inspect the results of clustering\n",
    "        pivotNorm=pd.merge(self.SampFeat,self.clusters,how='left').groupby('cluster')\n",
    "        ForEachCluster=lambda x:x.pivot(index='Sample',columns='Feature',\n",
    "                                values='value').replace(np.nan,0).apply(normalize,axis=1).replace(np.nan,0)\n",
    "        self.pivotNorm= pivotNorm.apply(ForEachCluster) \n",
    "        SampFeatNorm=self.pivotNorm.reset_index(level=1).melt(id_vars='Sample')\n",
    "        SampFeatNorm=SampFeatNorm[SampFeatNorm.value>0]\n",
    "        self.SampFeatNorm=SampFeatNorm\n",
    "        pca = skl.PCA(n_components=3).fit(mat)\n",
    "        xyz=pca.transform(mat)\n",
    "        scatter=pch.Scatter3D('Clustering people by stance on issues',is_grid=True,\n",
    "             width=1200,height=600)\n",
    "        \n",
    "        for cls,group in pd.concat([self.clusters,pd.DataFrame(xyz)],axis=1).groupby('cluster'):\n",
    "            scatter.add('Cluster'+str(cls),xyz[group.index].tolist(),grid_eight='75%',legend_top='10%',legend_pos=\"0%\",is_grid3D_rotate=True,grid3D_rotate_speed=40) \n",
    "        freqFeat=self.SampFeat['Feature'].value_counts()#[:10]\n",
    "        self.switch=pd.DataFrame({'Feature':freqFeat,'boo':True})\n",
    "        #draw Radar chart\n",
    "        radar=pch.Radar('Radar Chart of ' + 'Party Affliation' + ' on ' + 'issues', is_grid=True)\n",
    "        #normalize dict\n",
    "        #normalize_list=[]\n",
    "        #for idx in a.switch.index:\n",
    "        #   adict={'name':idx,\n",
    "        #   'max':a.SampFeatNorm.groupby('variable')['value'].max()[idx],\n",
    "        #   'min':a.SampFeatNorm.groupby('variable')['value'].max()[idx]}\n",
    "        #    normalize_list.append(adict)\n",
    "        #schema=[(idx,switch.loc[idx,'Feature']) for idx in self.switch.index]\n",
    "        schema=[(idx,0.25) for idx in self.switch.index]\n",
    "        \n",
    "        radar.config(schema)\n",
    "        for i in np.arange(2):\n",
    "            data= self.pivotNorm.loc[i].as_matrix().tolist()\n",
    "            c=['#d94e5d','#4e79a7','#eac763','#50a3ba',  '#f9713c','#b3e4a1']\n",
    "            radar.add('Cluster '+str(i), data, item_color=c[i],legend_pos='0%',legend_top=\"10%\",\n",
    "                      is_area_show=True,area_color=c[i],area_opacity=0.5)\n",
    "        radar.render('Clustering people by stance on issues_radar.html')\n",
    "        scatter.render('people issues'+'_scatter.html')\n",
    "        "
   ]
  },
  {
   "cell_type": "code",
   "execution_count": 8,
   "metadata": {
    "collapsed": false
   },
   "outputs": [],
   "source": [
    "a=Cluster(SampFeat,pivot)"
   ]
  },
  {
   "cell_type": "code",
   "execution_count": 9,
   "metadata": {
    "collapsed": false
   },
   "outputs": [],
   "source": [
    "a.draw()"
   ]
  },
  {
   "cell_type": "code",
   "execution_count": 10,
   "metadata": {
    "collapsed": false
   },
   "outputs": [
    {
     "data": {
      "text/plain": [
       "0.12686349020754223"
      ]
     },
     "execution_count": 10,
     "metadata": {},
     "output_type": "execute_result"
    }
   ],
   "source": [
    "a.SampFeatNorm.value.mean()"
   ]
  },
  {
   "cell_type": "code",
   "execution_count": 11,
   "metadata": {
    "collapsed": false,
    "scrolled": false
   },
   "outputs": [],
   "source": [
    "#Analysis\n",
    "#Compare Cluster labels with original democrat and republican labels\n",
    "CluLab=pd.concat([a.clusters,pd.DataFrame({'label':label})],axis=1)"
   ]
  },
  {
   "cell_type": "code",
   "execution_count": 12,
   "metadata": {
    "collapsed": false,
    "scrolled": true
   },
   "outputs": [
    {
     "data": {
      "text/plain": [
       "republican    162\n",
       "democrat       49\n",
       "Name: label, dtype: int64"
      ]
     },
     "execution_count": 12,
     "metadata": {},
     "output_type": "execute_result"
    }
   ],
   "source": [
    "CluLab.set_index('cluster').sort_index().loc[0,'label'].value_counts()"
   ]
  },
  {
   "cell_type": "code",
   "execution_count": 13,
   "metadata": {
    "collapsed": false
   },
   "outputs": [
    {
     "data": {
      "text/plain": [
       "49"
      ]
     },
     "execution_count": 13,
     "metadata": {},
     "output_type": "execute_result"
    }
   ],
   "source": [
    "# 49 Samples which was characterzied as republicans by K-Means, but are democrats\n",
    "idx=CluLab[(CluLab.cluster==0)&CluLab.label.str.match('democrat')].index\n",
    "len(idx)"
   ]
  },
  {
   "cell_type": "code",
   "execution_count": 14,
   "metadata": {
    "collapsed": false
   },
   "outputs": [],
   "source": [
    "#The top issues these Reagan Democrats\n",
    "top_issues=a.SampFeatNorm.set_index('Sample'\n",
    "                  ).loc[idx,:].groupby('Feature'\n",
    "                                      )['value'].sum().sort_values(ascending=False)"
   ]
  },
  {
   "cell_type": "code",
   "execution_count": 15,
   "metadata": {
    "collapsed": true
   },
   "outputs": [],
   "source": [
    "top_issues2=a.SampFeat.set_index('Sample'\n",
    "                  ).loc[idx,:].groupby('Feature'\n",
    "                                      )['value'].sum().sort_values(\n",
    "    ascending=False)"
   ]
  },
  {
   "cell_type": "code",
   "execution_count": 16,
   "metadata": {
    "collapsed": false,
    "scrolled": true
   },
   "outputs": [],
   "source": [
    "res=pd.concat([pd.DataFrame(top_issues.index),pd.DataFrame(top_issues2.index)]\n",
    "          ,axis=1)"
   ]
  },
  {
   "cell_type": "code",
   "execution_count": 17,
   "metadata": {
    "collapsed": false
   },
   "outputs": [],
   "source": [
    "res.columns=['Top issues','Top issues, unnormalized']"
   ]
  },
  {
   "cell_type": "code",
   "execution_count": 18,
   "metadata": {
    "collapsed": false
   },
   "outputs": [
    {
     "data": {
      "text/html": [
       "<div>\n",
       "<style>\n",
       "    .dataframe thead tr:only-child th {\n",
       "        text-align: right;\n",
       "    }\n",
       "\n",
       "    .dataframe thead th {\n",
       "        text-align: left;\n",
       "    }\n",
       "\n",
       "    .dataframe tbody tr th {\n",
       "        vertical-align: top;\n",
       "    }\n",
       "</style>\n",
       "<table border=\"1\" class=\"dataframe\">\n",
       "  <thead>\n",
       "    <tr style=\"text-align: right;\">\n",
       "      <th></th>\n",
       "      <th>Top issues</th>\n",
       "      <th>Top issues, unnormalized</th>\n",
       "    </tr>\n",
       "  </thead>\n",
       "  <tbody>\n",
       "    <tr>\n",
       "      <th>0</th>\n",
       "      <td>religious-groups-in-schools</td>\n",
       "      <td>religious-groups-in-schools</td>\n",
       "    </tr>\n",
       "    <tr>\n",
       "      <th>1</th>\n",
       "      <td>crime</td>\n",
       "      <td>crime</td>\n",
       "    </tr>\n",
       "    <tr>\n",
       "      <th>2</th>\n",
       "      <td>el-salvador-aid</td>\n",
       "      <td>el-salvador-aid</td>\n",
       "    </tr>\n",
       "    <tr>\n",
       "      <th>3</th>\n",
       "      <td>superfund-right-to-sue</td>\n",
       "      <td>superfund-right-to-sue</td>\n",
       "    </tr>\n",
       "    <tr>\n",
       "      <th>4</th>\n",
       "      <td>synfuels-corporation-cutback</td>\n",
       "      <td>synfuels-corporation-cutback</td>\n",
       "    </tr>\n",
       "    <tr>\n",
       "      <th>5</th>\n",
       "      <td>water-project-cost-sharing</td>\n",
       "      <td>water-project-cost-sharing</td>\n",
       "    </tr>\n",
       "    <tr>\n",
       "      <th>6</th>\n",
       "      <td>adoption-of-the-budget-resolution</td>\n",
       "      <td>adoption-of-the-budget-resolution</td>\n",
       "    </tr>\n",
       "    <tr>\n",
       "      <th>7</th>\n",
       "      <td>export-administration-act-south-africa</td>\n",
       "      <td>export-administration-act-south-africa</td>\n",
       "    </tr>\n",
       "    <tr>\n",
       "      <th>8</th>\n",
       "      <td>handicapped-infants</td>\n",
       "      <td>handicapped-infants</td>\n",
       "    </tr>\n",
       "    <tr>\n",
       "      <th>9</th>\n",
       "      <td>education-spending</td>\n",
       "      <td>education-spending</td>\n",
       "    </tr>\n",
       "    <tr>\n",
       "      <th>10</th>\n",
       "      <td>immigration</td>\n",
       "      <td>immigration</td>\n",
       "    </tr>\n",
       "    <tr>\n",
       "      <th>11</th>\n",
       "      <td>duty-free-exports</td>\n",
       "      <td>physician-fee-freeze</td>\n",
       "    </tr>\n",
       "    <tr>\n",
       "      <th>12</th>\n",
       "      <td>physician-fee-freeze</td>\n",
       "      <td>duty-free-exports</td>\n",
       "    </tr>\n",
       "    <tr>\n",
       "      <th>13</th>\n",
       "      <td>anti-satellite-test-ban</td>\n",
       "      <td>mx-missile</td>\n",
       "    </tr>\n",
       "    <tr>\n",
       "      <th>14</th>\n",
       "      <td>mx-missile</td>\n",
       "      <td>anti-satellite-test-ban</td>\n",
       "    </tr>\n",
       "    <tr>\n",
       "      <th>15</th>\n",
       "      <td>aid-to-nicaraguan-contras</td>\n",
       "      <td>aid-to-nicaraguan-contras</td>\n",
       "    </tr>\n",
       "  </tbody>\n",
       "</table>\n",
       "</div>"
      ],
      "text/plain": [
       "                                Top issues  \\\n",
       "0              religious-groups-in-schools   \n",
       "1                                    crime   \n",
       "2                          el-salvador-aid   \n",
       "3                   superfund-right-to-sue   \n",
       "4             synfuels-corporation-cutback   \n",
       "5               water-project-cost-sharing   \n",
       "6        adoption-of-the-budget-resolution   \n",
       "7   export-administration-act-south-africa   \n",
       "8                      handicapped-infants   \n",
       "9                       education-spending   \n",
       "10                             immigration   \n",
       "11                       duty-free-exports   \n",
       "12                    physician-fee-freeze   \n",
       "13                 anti-satellite-test-ban   \n",
       "14                              mx-missile   \n",
       "15               aid-to-nicaraguan-contras   \n",
       "\n",
       "                  Top issues, unnormalized  \n",
       "0              religious-groups-in-schools  \n",
       "1                                    crime  \n",
       "2                          el-salvador-aid  \n",
       "3                   superfund-right-to-sue  \n",
       "4             synfuels-corporation-cutback  \n",
       "5               water-project-cost-sharing  \n",
       "6        adoption-of-the-budget-resolution  \n",
       "7   export-administration-act-south-africa  \n",
       "8                      handicapped-infants  \n",
       "9                       education-spending  \n",
       "10                             immigration  \n",
       "11                    physician-fee-freeze  \n",
       "12                       duty-free-exports  \n",
       "13                              mx-missile  \n",
       "14                 anti-satellite-test-ban  \n",
       "15               aid-to-nicaraguan-contras  "
      ]
     },
     "execution_count": 18,
     "metadata": {},
     "output_type": "execute_result"
    }
   ],
   "source": [
    "res"
   ]
  },
  {
   "cell_type": "code",
   "execution_count": null,
   "metadata": {
    "collapsed": true
   },
   "outputs": [],
   "source": []
  }
 ],
 "metadata": {
  "kernelspec": {
   "display_name": "Python 2",
   "language": "python",
   "name": "python2"
  },
  "language_info": {
   "codemirror_mode": {
    "name": "ipython",
    "version": 2
   },
   "file_extension": ".py",
   "mimetype": "text/x-python",
   "name": "python",
   "nbconvert_exporter": "python",
   "pygments_lexer": "ipython2",
   "version": "2.7.13"
  }
 },
 "nbformat": 4,
 "nbformat_minor": 2
}
