{
 "cells": [
  {
   "cell_type": "code",
   "execution_count": 36,
   "metadata": {
    "collapsed": false
   },
   "outputs": [],
   "source": [
    "import pandas as pd\n",
    "import os\n",
    "import numpy as np\n",
    "from sklearn.cluster import KMeans\n",
    "import sklearn.decomposition as skl\n",
    "import pyecharts as pch"
   ]
  },
  {
   "cell_type": "code",
   "execution_count": 37,
   "metadata": {
    "collapsed": false
   },
   "outputs": [],
   "source": [
    "os.chdir('/Users/chenzhikai/AnacondaProjects/1984 Voting Records and the Third Way/data/')"
   ]
  },
  {
   "cell_type": "code",
   "execution_count": 38,
   "metadata": {
    "collapsed": false
   },
   "outputs": [],
   "source": [
    "def normalize(arr):\n",
    "    return [n/float(arr.sum()) for n in arr]"
   ]
  },
  {
   "cell_type": "code",
   "execution_count": 39,
   "metadata": {
    "collapsed": false
   },
   "outputs": [],
   "source": [
    "\n",
    "def preprocess():\n",
    "    df=pd.read_csv('Records.txt',header=None)\n",
    "    df.columns=['label','handicapped-infants','water-project-cost-sharing',\n",
    "           'adoption-of-the-budget-resolution','physician-fee-freeze',\n",
    "            'el-salvador-aid','religious-groups-in-schools',\n",
    "            'anti-satellite-test-ban','aid-to-nicaraguan-contras',\n",
    "            'mx-missile','immigration','synfuels-corporation-cutback',\n",
    "            'education-spending','superfund-right-to-sue','crime',\n",
    "            'duty-free-exports','export-administration-act-south-africa'            \n",
    "           ]\n",
    "    df.reset_index(inplace=True)\n",
    "    df.rename(columns={'index':'Sample'},inplace=True)\n",
    "    df.replace('y',1,inplace=True)\n",
    "    df.replace('n',0,inplace=True)\n",
    "    df.replace('?',0,inplace=True)\n",
    "    label=df.label\n",
    "    df.drop(df.columns[1],axis=1,inplace=True)\n",
    "    \n",
    "    SampFeat=pd.melt(df,\n",
    "            id_vars='Sample',var_name='Feature').sort_values(\n",
    "            'Sample').reset_index().drop('index',axis=1)\n",
    "    SampFeat=SampFeat[SampFeat['value']==1]\n",
    "    #mask=SampFeat.Sample.value_counts()>=5\n",
    "    #freqSamp=SampFeat.Sample.value_counts()[mask].index\n",
    "    #SampFeat=SampFeat.set_index('Sample').loc[freqSamp,:].reset_index()\n",
    "    pivot=df.set_index('Sample')\n",
    "    pivot=pivot.replace('',0).apply(normalize,axis=1)\n",
    "    return pivot,SampFeat,label"
   ]
  },
  {
   "cell_type": "code",
   "execution_count": 40,
   "metadata": {
    "collapsed": false
   },
   "outputs": [
    {
     "name": "stderr",
     "output_type": "stream",
     "text": [
      "/Users/chenzhikai/anaconda/lib/python2.7/site-packages/ipykernel/__main__.py:2: RuntimeWarning: invalid value encountered in divide\n",
      "  from ipykernel import kernelapp as app\n"
     ]
    }
   ],
   "source": [
    "pivot,SampFeat,label=preprocess()"
   ]
  },
  {
   "cell_type": "code",
   "execution_count": 48,
   "metadata": {
    "collapsed": false
   },
   "outputs": [],
   "source": [
    "\n",
    "class Cluster(object):\n",
    "    def __init__(self,SampFeat,pivot,numcluster):\n",
    "        self.SampFeat=SampFeat\n",
    "        self.pivot=pivot\n",
    "        self.numcluster=numcluster\n",
    "    def draw(self):\n",
    "        mat=self.pivot.replace(np.nan,0).as_matrix()\n",
    "        kmeans=KMeans(n_clusters=self.numcluster).fit(mat)\n",
    "        self.clusters=pd.DataFrame({'Sample':pivot.index,'cluster':kmeans.labels_})\n",
    "        \n",
    "        #Inspect the results of clustering\n",
    "        pivotNorm=pd.merge(self.SampFeat,self.clusters,how='left').groupby('cluster')\n",
    "        ForEachCluster=lambda x:x.pivot(index='Sample',columns='Feature',\n",
    "                                values='value').apply(normalize,axis=1)\n",
    "        self.pivotNorm= pivotNorm.apply(ForEachCluster) \n",
    "        SampFeatNorm=self.pivotNorm.reset_index(level=1).melt(id_vars='Sample')\n",
    "        SampFeatNorm=SampFeatNorm[SampFeatNorm.value>0]\n",
    "        self.SampFeatNorm=SampFeatNorm\n",
    "        pca = skl.PCA(n_components=3).fit(mat)\n",
    "        xyz=pca.transform(mat)\n",
    "        scatter=pch.Scatter3D('Clustering people by stance on issues',is_grid=True,\n",
    "             width=1200,height=600)\n",
    "        \n",
    "        for cls,group in pd.concat([self.clusters,pd.DataFrame(xyz)],axis=1).groupby('cluster'):\n",
    "            scatter.add('Cluster'+str(cls),xyz[group.index].tolist(),grid_eight='75%',legend_top='10%',legend_pos=\"0%\",is_grid3D_rotate=True,grid3D_rotate_speed=40) \n",
    "        freqFeat=self.SampFeat['Feature'].value_counts()#[:10]\n",
    "        self.switch=pd.DataFrame({'Feature':freqFeat,'boo':True})\n",
    "        #draw Radar chart\n",
    "        radar=pch.Radar('Radar Chart of ' + 'Party Affliation' + ' on ' + 'issues', is_grid=True)\n",
    "        #normalize dict\n",
    "        #normalize_list=[]\n",
    "        #for idx in a.switch.index:\n",
    "        #   adict={'name':idx,\n",
    "        #   'max':a.SampFeatNorm.groupby('variable')['value'].max()[idx],\n",
    "        #   'min':a.SampFeatNorm.groupby('variable')['value'].max()[idx]}\n",
    "        #    normalize_list.append(adict)\n",
    "        #schema=[(idx,switch.loc[idx,'Feature']) for idx in self.switch.index]\n",
    "        schema=[(idx,0.25) for idx in self.switch.index]\n",
    "        \n",
    "        radar.config(schema)\n",
    "        for i in np.arange(self.numcluster):\n",
    "            data= self.pivotNorm.loc[i].as_matrix().tolist()\n",
    "            c=['#d94e5d','#4e79a7','#eac763','#50a3ba',  '#f9713c','#b3e4a1']\n",
    "            radar.add('Cluster '+str(i), data, item_color=c[i],legend_pos='0%',legend_top=\"10%\",\n",
    "                      is_area_show=True,area_color=c[i],area_opacity=0.5)\n",
    "        radar.render('Clustering people by stance on issues_radar.html')\n",
    "        scatter.render('people issues'+'_scatter.html')\n",
    "        "
   ]
  },
  {
   "cell_type": "code",
   "execution_count": 53,
   "metadata": {
    "collapsed": false
   },
   "outputs": [],
   "source": [
    "a=Cluster(SampFeat,pivot,6)"
   ]
  },
  {
   "cell_type": "code",
   "execution_count": 54,
   "metadata": {
    "collapsed": false
   },
   "outputs": [],
   "source": [
    "a.draw()"
   ]
  },
  {
   "cell_type": "code",
   "execution_count": 9,
   "metadata": {
    "collapsed": false
   },
   "outputs": [
    {
     "data": {
      "text/plain": [
       "0.12686349020754223"
      ]
     },
     "execution_count": 9,
     "metadata": {},
     "output_type": "execute_result"
    }
   ],
   "source": [
    "a.SampFeatNorm.value.mean()"
   ]
  },
  {
   "cell_type": "code",
   "execution_count": 10,
   "metadata": {
    "collapsed": false,
    "scrolled": false
   },
   "outputs": [],
   "source": [
    "#Analysis\n",
    "#Compare Cluster labels with original democrat and republican labels\n",
    "CluLab=pd.concat([a.clusters,pd.DataFrame({'label':label})],axis=1)"
   ]
  },
  {
   "cell_type": "code",
   "execution_count": 27,
   "metadata": {
    "collapsed": false,
    "scrolled": true
   },
   "outputs": [
    {
     "data": {
      "text/plain": [
       "democrat      218\n",
       "republican      6\n",
       "Name: label, dtype: int64"
      ]
     },
     "execution_count": 27,
     "metadata": {},
     "output_type": "execute_result"
    }
   ],
   "source": [
    "CluLab.set_index('cluster').sort_index().loc[1,'label'].value_counts()"
   ]
  },
  {
   "cell_type": "code",
   "execution_count": 14,
   "metadata": {
    "collapsed": false
   },
   "outputs": [
    {
     "data": {
      "text/plain": [
       "49"
      ]
     },
     "execution_count": 14,
     "metadata": {},
     "output_type": "execute_result"
    }
   ],
   "source": [
    "# 49 Samples which was characterzied as republicans by K-Means, but are democrats\n",
    "idx=CluLab[(CluLab.cluster==0)&CluLab.label.str.match('democrat')].index\n",
    "len(idx)"
   ]
  },
  {
   "cell_type": "code",
   "execution_count": 15,
   "metadata": {
    "collapsed": false
   },
   "outputs": [],
   "source": [
    "#The top issues these Reagan Democrats\n",
    "top_issues=a.SampFeatNorm.set_index('Sample'\n",
    "                  ).loc[idx,:].groupby('Feature'\n",
    "                                      )['value'].sum().sort_values(ascending=False)"
   ]
  },
  {
   "cell_type": "code",
   "execution_count": 16,
   "metadata": {
    "collapsed": false
   },
   "outputs": [],
   "source": [
    "dem=CluLab[CluLab.label.str.contains('democrat')].Sample.index\n",
    "rep=CluLab[CluLab.label.str.contains('republican')].Sample.index"
   ]
  },
  {
   "cell_type": "code",
   "execution_count": 17,
   "metadata": {
    "collapsed": false
   },
   "outputs": [],
   "source": [
    "dem_issues=a.SampFeatNorm.set_index('Sample'\n",
    "                  ).loc[dem,:].groupby('Feature'\n",
    "                                      )['value'].sum().sort_values(ascending=False)\n",
    "rep_issues=a.SampFeatNorm.set_index('Sample'\n",
    "                  ).loc[rep,:].groupby('Feature'\n",
    "                                      )['value'].sum().sort_values(ascending=False)\n"
   ]
  },
  {
   "cell_type": "code",
   "execution_count": 60,
   "metadata": {
    "collapsed": false
   },
   "outputs": [],
   "source": [
    "analysis=pd.DataFrame({'Traditional Democrats':dem_issues.index,\n",
    "              'Democrats (Emerging Wing)':top_issues.index,\n",
    "              'Republicans':rep_issues.index})"
   ]
  },
  {
   "cell_type": "code",
   "execution_count": 61,
   "metadata": {
    "collapsed": false
   },
   "outputs": [],
   "source": [
    "analysis.index.name='Favored issues'"
   ]
  },
  {
   "cell_type": "code",
   "execution_count": 64,
   "metadata": {
    "collapsed": false
   },
   "outputs": [],
   "source": [
    "analysis.to_csv('Topic issues.csv')"
   ]
  },
  {
   "cell_type": "code",
   "execution_count": 18,
   "metadata": {
    "collapsed": false
   },
   "outputs": [
    {
     "data": {
      "text/plain": [
       "Feature\n",
       "adoption-of-the-budget-resolution         30.485015\n",
       "aid-to-nicaraguan-contras                 28.998399\n",
       "anti-satellite-test-ban                   26.635004\n",
       "mx-missile                                25.533319\n",
       "export-administration-act-south-africa    21.624265\n",
       "duty-free-exports                         20.767940\n",
       "handicapped-infants                       20.417111\n",
       "synfuels-corporation-cutback              15.744106\n",
       "religious-groups-in-schools               15.186999\n",
       "immigration                               14.719900\n",
       "water-project-cost-sharing                14.669070\n",
       "crime                                     10.888586\n",
       "superfund-right-to-sue                     8.460376\n",
       "el-salvador-aid                            6.908381\n",
       "education-spending                         4.329773\n",
       "physician-fee-freeze                       1.631757\n",
       "Name: value, dtype: float64"
      ]
     },
     "execution_count": 18,
     "metadata": {},
     "output_type": "execute_result"
    }
   ],
   "source": [
    "dem_issues"
   ]
  },
  {
   "cell_type": "code",
   "execution_count": 19,
   "metadata": {
    "collapsed": false
   },
   "outputs": [
    {
     "data": {
      "text/plain": [
       "Feature\n",
       "crime                                     21.203630\n",
       "physician-fee-freeze                      21.125455\n",
       "el-salvador-aid                           20.486133\n",
       "religious-groups-in-schools               19.291689\n",
       "superfund-right-to-sue                    17.529412\n",
       "education-spending                        17.411891\n",
       "export-administration-act-south-africa    11.275852\n",
       "immigration                               11.036169\n",
       "water-project-cost-sharing                 9.381421\n",
       "anti-satellite-test-ban                    4.159185\n",
       "handicapped-infants                        3.388900\n",
       "aid-to-nicaraguan-contras                  2.524229\n",
       "synfuels-corporation-cutback               2.315487\n",
       "adoption-of-the-budget-resolution          2.215065\n",
       "mx-missile                                 2.074254\n",
       "duty-free-exports                          1.581227\n",
       "Name: value, dtype: float64"
      ]
     },
     "execution_count": 19,
     "metadata": {},
     "output_type": "execute_result"
    }
   ],
   "source": [
    "rep_issues"
   ]
  },
  {
   "cell_type": "code",
   "execution_count": 35,
   "metadata": {
    "collapsed": false
   },
   "outputs": [
    {
     "data": {
      "text/plain": [
       "<bound method Series.item of Feature\n",
       "religious-groups-in-schools               6.258777\n",
       "crime                                     5.701634\n",
       "el-salvador-aid                           5.550444\n",
       "superfund-right-to-sue                    4.606396\n",
       "synfuels-corporation-cutback              4.253619\n",
       "water-project-cost-sharing                3.860761\n",
       "adoption-of-the-budget-resolution         3.490920\n",
       "export-administration-act-south-africa    2.990884\n",
       "handicapped-infants                       2.797258\n",
       "education-spending                        2.535329\n",
       "immigration                               1.948821\n",
       "duty-free-exports                         1.430988\n",
       "physician-fee-freeze                      1.409535\n",
       "anti-satellite-test-ban                   0.805988\n",
       "mx-missile                                0.751166\n",
       "aid-to-nicaraguan-contras                 0.607479\n",
       "Name: value, dtype: float64>"
      ]
     },
     "execution_count": 35,
     "metadata": {},
     "output_type": "execute_result"
    }
   ],
   "source": [
    "top_issues"
   ]
  },
  {
   "cell_type": "code",
   "execution_count": null,
   "metadata": {
    "collapsed": true
   },
   "outputs": [],
   "source": []
  }
 ],
 "metadata": {
  "kernelspec": {
   "display_name": "Python 2",
   "language": "python",
   "name": "python2"
  },
  "language_info": {
   "codemirror_mode": {
    "name": "ipython",
    "version": 2
   },
   "file_extension": ".py",
   "mimetype": "text/x-python",
   "name": "python",
   "nbconvert_exporter": "python",
   "pygments_lexer": "ipython2",
   "version": "2.7.13"
  }
 },
 "nbformat": 4,
 "nbformat_minor": 2
}
